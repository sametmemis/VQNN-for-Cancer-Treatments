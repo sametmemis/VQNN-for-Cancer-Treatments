{
 "cells": [
  {
   "cell_type": "code",
   "id": "38a6db20-d138-4f59-bfa8-b1484c9576f5",
   "metadata": {
    "execution": {
     "iopub.execute_input": "2025-03-03T06:50:33.885051Z",
     "iopub.status.busy": "2025-03-03T06:50:33.884880Z",
     "iopub.status.idle": "2025-03-03T06:50:33.887574Z",
     "shell.execute_reply": "2025-03-03T06:50:33.887191Z",
     "shell.execute_reply.started": "2025-03-03T06:50:33.885037Z"
    },
    "tags": [],
    "ExecuteTime": {
     "end_time": "2025-03-03T10:43:58.916731Z",
     "start_time": "2025-03-03T10:43:58.913964Z"
    }
   },
   "source": [
    "import pandas as pd\n",
    "import pennylane.numpy as np\n",
    "import matplotlib.pyplot as plt\n",
    "from sklearn.model_selection import train_test_split"
   ],
   "outputs": [],
   "execution_count": 6
  },
  {
   "cell_type": "code",
   "id": "819bfa40-f030-4bbe-ba67-8fd058ae0beb",
   "metadata": {
    "execution": {
     "iopub.execute_input": "2025-03-03T06:50:34.170161Z",
     "iopub.status.busy": "2025-03-03T06:50:34.170040Z",
     "iopub.status.idle": "2025-03-03T06:50:34.180731Z",
     "shell.execute_reply": "2025-03-03T06:50:34.180406Z",
     "shell.execute_reply.started": "2025-03-03T06:50:34.170149Z"
    },
    "tags": [],
    "ExecuteTime": {
     "end_time": "2025-03-03T10:43:58.929082Z",
     "start_time": "2025-03-03T10:43:58.918860Z"
    }
   },
   "source": [
    "path='Data.xlsx'\n",
    "dataframe=pd.read_excel(path)\n",
    "data = dataframe.values"
   ],
   "outputs": [],
   "execution_count": 7
  },
  {
   "cell_type": "code",
   "id": "895781ac-e379-4f89-886e-124c419acec2",
   "metadata": {
    "execution": {
     "iopub.execute_input": "2025-03-03T06:50:34.680888Z",
     "iopub.status.busy": "2025-03-03T06:50:34.680759Z",
     "iopub.status.idle": "2025-03-03T06:50:34.683580Z",
     "shell.execute_reply": "2025-03-03T06:50:34.683224Z",
     "shell.execute_reply.started": "2025-03-03T06:50:34.680876Z"
    },
    "ExecuteTime": {
     "end_time": "2025-03-03T10:43:58.933234Z",
     "start_time": "2025-03-03T10:43:58.930385Z"
    }
   },
   "source": [
    "len(data)"
   ],
   "outputs": [
    {
     "data": {
      "text/plain": [
       "64"
      ]
     },
     "execution_count": 8,
     "metadata": {},
     "output_type": "execute_result"
    }
   ],
   "execution_count": 8
  },
  {
   "cell_type": "code",
   "id": "e1037964-a614-4dcb-9c16-1343df7b5670",
   "metadata": {
    "execution": {
     "iopub.execute_input": "2025-03-03T06:50:40.420744Z",
     "iopub.status.busy": "2025-03-03T06:50:40.420596Z",
     "iopub.status.idle": "2025-03-03T06:50:40.423749Z",
     "shell.execute_reply": "2025-03-03T06:50:40.423380Z",
     "shell.execute_reply.started": "2025-03-03T06:50:40.420732Z"
    },
    "tags": [],
    "ExecuteTime": {
     "end_time": "2025-03-03T10:43:58.936457Z",
     "start_time": "2025-03-03T10:43:58.934183Z"
    }
   },
   "source": [
    "dataX=data[:,:-2]\n",
    "label=data[:,-2]\n",
    "\n",
    "X_train, X_test, y_train, y_test = train_test_split(dataX, label, test_size=0.2, random_state=42)\n"
   ],
   "outputs": [],
   "execution_count": 9
  },
  {
   "cell_type": "code",
   "id": "f2395937-ddc2-4223-ab0f-3c3735ed413a",
   "metadata": {
    "execution": {
     "iopub.execute_input": "2025-03-03T06:50:42.091300Z",
     "iopub.status.busy": "2025-03-03T06:50:42.091172Z",
     "iopub.status.idle": "2025-03-03T06:50:42.094069Z",
     "shell.execute_reply": "2025-03-03T06:50:42.093728Z",
     "shell.execute_reply.started": "2025-03-03T06:50:42.091288Z"
    },
    "ExecuteTime": {
     "end_time": "2025-03-03T10:43:58.939877Z",
     "start_time": "2025-03-03T10:43:58.937708Z"
    }
   },
   "source": "len(X_test)",
   "outputs": [
    {
     "data": {
      "text/plain": [
       "13"
      ]
     },
     "execution_count": 10,
     "metadata": {},
     "output_type": "execute_result"
    }
   ],
   "execution_count": 10
  },
  {
   "cell_type": "code",
   "id": "c6fbcd83-724a-44d9-9108-73e68b880c9a",
   "metadata": {
    "execution": {
     "iopub.execute_input": "2025-03-03T06:51:01.361054Z",
     "iopub.status.busy": "2025-03-03T06:51:01.360882Z",
     "iopub.status.idle": "2025-03-03T06:51:01.363592Z",
     "shell.execute_reply": "2025-03-03T06:51:01.363312Z",
     "shell.execute_reply.started": "2025-03-03T06:51:01.361042Z"
    },
    "ExecuteTime": {
     "end_time": "2025-03-03T10:43:58.942355Z",
     "start_time": "2025-03-03T10:43:58.940502Z"
    }
   },
   "source": [
    "print(\"Len(Train):\",len(dataX))\n",
    "TrainX=[]\n",
    "TrainY=[]\n",
    "ValidationX=[]\n",
    "ValidationY=[]"
   ],
   "outputs": [
    {
     "name": "stdout",
     "output_type": "stream",
     "text": [
      "Len(Train): 64\n"
     ]
    }
   ],
   "execution_count": 11
  },
  {
   "cell_type": "code",
   "id": "c1004758-e936-4a49-a748-5a8f35785b45",
   "metadata": {
    "execution": {
     "iopub.execute_input": "2025-03-03T06:51:43.834721Z",
     "iopub.status.busy": "2025-03-03T06:51:43.834580Z",
     "iopub.status.idle": "2025-03-03T06:51:43.837226Z",
     "shell.execute_reply": "2025-03-03T06:51:43.836847Z",
     "shell.execute_reply.started": "2025-03-03T06:51:43.834709Z"
    },
    "tags": [],
    "ExecuteTime": {
     "end_time": "2025-03-03T10:43:58.944514Z",
     "start_time": "2025-03-03T10:43:58.942994Z"
    }
   },
   "source": [
    "from sklearn.model_selection import KFold\n",
    "kfold = KFold(5, shuffle=True, random_state=29)"
   ],
   "outputs": [],
   "execution_count": 12
  },
  {
   "cell_type": "code",
   "id": "93767f80-db4c-44b2-85dd-944c0439244c",
   "metadata": {
    "execution": {
     "iopub.execute_input": "2025-03-03T06:51:44.464697Z",
     "iopub.status.busy": "2025-03-03T06:51:44.464575Z",
     "iopub.status.idle": "2025-03-03T06:51:44.467761Z",
     "shell.execute_reply": "2025-03-03T06:51:44.467432Z",
     "shell.execute_reply.started": "2025-03-03T06:51:44.464685Z"
    },
    "tags": [],
    "ExecuteTime": {
     "end_time": "2025-03-03T10:43:58.947353Z",
     "start_time": "2025-03-03T10:43:58.945040Z"
    }
   },
   "source": [
    "for train, test in kfold.split(X_train):\n",
    "    TrainX.append(X_train[train])\n",
    "    TrainY.append(y_train[train])\n",
    "    ValidationX.append(X_train[test])\n",
    "    ValidationY.append(y_train[test])\n"
   ],
   "outputs": [],
   "execution_count": 13
  },
  {
   "cell_type": "code",
   "id": "e82fb495-0c6d-46b3-98a8-bf08a9c661f6",
   "metadata": {
    "execution": {
     "iopub.execute_input": "2025-03-03T06:52:52.886842Z",
     "iopub.status.busy": "2025-03-03T06:52:52.886680Z",
     "iopub.status.idle": "2025-03-03T06:52:52.891111Z",
     "shell.execute_reply": "2025-03-03T06:52:52.890823Z",
     "shell.execute_reply.started": "2025-03-03T06:52:52.886829Z"
    },
    "tags": [],
    "ExecuteTime": {
     "end_time": "2025-03-03T10:43:58.952458Z",
     "start_time": "2025-03-03T10:43:58.948010Z"
    }
   },
   "source": [
    "for i in range (0,5):\n",
    "    np.save(\"TrainX_fold_\"+str(i),TrainX[i])\n",
    "    np.save(\"TrainY_fold_\"+str(i),TrainY[i])\n",
    "  \n",
    "    np.save(\"ValidationX_fold_\"+str(i),ValidationX[i])\n",
    "    np.save(\"ValidationY_fold_\"+str(i),ValidationY[i])"
   ],
   "outputs": [],
   "execution_count": 14
  },
  {
   "metadata": {
    "ExecuteTime": {
     "end_time": "2025-03-03T10:43:58.955465Z",
     "start_time": "2025-03-03T10:43:58.953033Z"
    }
   },
   "cell_type": "code",
   "source": [
    "np.save(\"TestX\",X_test)\n",
    "np.save(\"TestY\",y_test)"
   ],
   "id": "53c44ecd3921c3a5",
   "outputs": [],
   "execution_count": 15
  },
  {
   "cell_type": "code",
   "id": "0a86996e-19f8-442e-a8be-452293bb4f4b",
   "metadata": {
    "ExecuteTime": {
     "end_time": "2025-03-03T10:43:58.958360Z",
     "start_time": "2025-03-03T10:43:58.957214Z"
    }
   },
   "source": "",
   "outputs": [],
   "execution_count": 15
  },
  {
   "cell_type": "code",
   "id": "bd073690-6961-4f31-b340-f6aa7e0fdabb",
   "metadata": {
    "ExecuteTime": {
     "end_time": "2025-03-03T10:43:58.960847Z",
     "start_time": "2025-03-03T10:43:58.958850Z"
    }
   },
   "source": "X_test",
   "outputs": [
    {
     "data": {
      "text/plain": [
       "array([[  6.  ,   1.  ,  12.5 ],\n",
       "       [  7.  ,   1.  ,  50.  ],\n",
       "       [  0.  ,   0.  ,   0.  ],\n",
       "       [  5.  ,   1.  ,  12.5 ],\n",
       "       [  0.  ,   0.  ,   6.25],\n",
       "       [  4.  ,   1.  ,  12.5 ],\n",
       "       [  2.  ,   0.  ,   0.  ],\n",
       "       [  1.  ,   0.  ,  12.5 ],\n",
       "       [  3.  ,   0.  , 100.  ],\n",
       "       [  7.  ,   1.  ,   6.25],\n",
       "       [  7.  ,   1.  ,   0.  ],\n",
       "       [  1.  ,   0.  , 100.  ],\n",
       "       [  5.  ,   1.  ,   0.  ]])"
      ]
     },
     "execution_count": 16,
     "metadata": {},
     "output_type": "execute_result"
    }
   ],
   "execution_count": 16
  },
  {
   "metadata": {
    "ExecuteTime": {
     "end_time": "2025-03-03T10:43:58.962380Z",
     "start_time": "2025-03-03T10:43:58.961291Z"
    }
   },
   "cell_type": "code",
   "source": "",
   "id": "6fd619d0d450b406",
   "outputs": [],
   "execution_count": 16
  }
 ],
 "metadata": {
  "kernelspec": {
   "display_name": "Python 3 (ipykernel)",
   "language": "python",
   "name": "python3"
  },
  "language_info": {
   "codemirror_mode": {
    "name": "ipython",
    "version": 3
   },
   "file_extension": ".py",
   "mimetype": "text/x-python",
   "name": "python",
   "nbconvert_exporter": "python",
   "pygments_lexer": "ipython3",
   "version": "3.12.2"
  }
 },
 "nbformat": 4,
 "nbformat_minor": 5
}
