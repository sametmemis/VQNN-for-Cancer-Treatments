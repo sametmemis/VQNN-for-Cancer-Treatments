{
 "cells": [
  {
   "cell_type": "code",
   "execution_count": null,
   "id": "1080ff64-c956-40ba-9a5f-d2de494be591",
   "metadata": {
    "execution": {
     "iopub.execute_input": "2025-03-03T07:27:56.982817Z",
     "iopub.status.busy": "2025-03-03T07:27:56.982606Z",
     "iopub.status.idle": "2025-03-03T07:27:56.986406Z",
     "shell.execute_reply": "2025-03-03T07:27:56.985966Z",
     "shell.execute_reply.started": "2025-03-03T07:27:56.982800Z"
    },
    "tags": []
   },
   "outputs": [],
   "source": [
    "import pennylane.numpy as np\n",
    "import pennylane as qml\n",
    "import tensorflow as tf\n",
    "from tensorflow.keras import activations\n",
    "from tensorflow.keras.callbacks import ReduceLROnPlateau\n",
    "from silence_tensorflow import silence_tensorflow\n",
    "silence_tensorflow()"
   ]
  },
  {
   "cell_type": "code",
   "execution_count": null,
   "id": "161e3702-2813-472e-86c7-8a5c5543f70e",
   "metadata": {
    "execution": {
     "iopub.execute_input": "2025-03-03T07:27:57.830244Z",
     "iopub.status.busy": "2025-03-03T07:27:57.830113Z",
     "iopub.status.idle": "2025-03-03T07:27:57.834076Z",
     "shell.execute_reply": "2025-03-03T07:27:57.833690Z",
     "shell.execute_reply.started": "2025-03-03T07:27:57.830232Z"
    },
    "tags": []
   },
   "outputs": [],
   "source": [
    "fold = 0\n",
    "TrainX = np.load(f\"TrainX_fold_{fold}.npy\", allow_pickle=True)\n",
    "TrainY = np.load(f\"TrainY_fold_{fold}.npy\", allow_pickle=True)\n",
    "\n",
    "ValidationX = np.load(f\"ValidationX_fold_{fold}.npy\", allow_pickle=True)\n",
    "ValidationY = np.load(f\"ValidationY_fold_{fold}.npy\", allow_pickle=True)\n"
   ]
  },
  {
   "cell_type": "code",
   "execution_count": null,
   "id": "db39c96f-b2c5-4086-9993-7bbad37ec0b2",
   "metadata": {
    "execution": {
     "iopub.execute_input": "2025-03-03T07:27:58.702845Z",
     "iopub.status.busy": "2025-03-03T07:27:58.702716Z",
     "iopub.status.idle": "2025-03-03T07:27:58.709177Z",
     "shell.execute_reply": "2025-03-03T07:27:58.708826Z",
     "shell.execute_reply.started": "2025-03-03T07:27:58.702833Z"
    },
    "tags": []
   },
   "outputs": [],
   "source": [
    "def Data_AngleEmbedding_layer(inputs,n_qubits):\n",
    "    qml.templates.AngleEmbedding(inputs,rotation='Y', wires=range(n_qubits)) \n",
    "    \n",
    "def ROT_layer(w,qubit_number):\n",
    "    for i in range(qubit_number):\n",
    "        qml.Rot(*w[i],wires=i)\n",
    "\n",
    "def U3_layer(w,qubit_number):\n",
    "    for i in range(qubit_number):\n",
    "        qml.U3(*w[i],wires=i)\n",
    "\n",
    "def strong_entangling_layer(nqubits):\n",
    "    for i in range(nqubits-1):\n",
    "        qml.CNOT(wires=[i,i+1])\n",
    "    qml.CNOT(wires=[nqubits-1,0])"
   ]
  },
  {
   "cell_type": "code",
   "execution_count": null,
   "id": "9aaca20b-d479-4798-bdcf-4dd170413ee5",
   "metadata": {
    "execution": {
     "iopub.execute_input": "2025-03-03T07:27:59.092450Z",
     "iopub.status.busy": "2025-03-03T07:27:59.092309Z",
     "iopub.status.idle": "2025-03-03T07:27:59.096169Z",
     "shell.execute_reply": "2025-03-03T07:27:59.095762Z",
     "shell.execute_reply.started": "2025-03-03T07:27:59.092438Z"
    },
    "tags": []
   },
   "outputs": [],
   "source": [
    "n_qubit = 3\n",
    "n_layers=2\n",
    "\n",
    "weight_shapes = {\"weights_1\": (n_layers,n_qubit,3),\"weights_2\": (n_layers,n_qubit,3)}\n",
    "dev = qml.device('default.qubit', wires=n_qubit)\n",
    "@qml.qnode(dev)\n",
    "def qnode(inputs,weights_1,weights_2):\n",
    "    Data_AngleEmbedding_layer(np.arctan(inputs),n_qubit)\n",
    "    for k in range(n_layers):\n",
    "        U3_layer(weights_1[k],n_qubit)\n",
    "        strong_entangling_layer(n_qubit)\n",
    "    ROT_layer(weights_2[k],n_qubit) \n",
    "    return [qml.expval(qml.PauliZ(wires=i)) for i in range(n_qubit)]"
   ]
  },
  {
   "cell_type": "code",
   "execution_count": null,
   "id": "c646c87b-d410-484d-b361-cc41ab30a55f",
   "metadata": {
    "execution": {
     "iopub.execute_input": "2025-03-03T07:27:59.458090Z",
     "iopub.status.busy": "2025-03-03T07:27:59.457973Z",
     "iopub.status.idle": "2025-03-03T07:27:59.487503Z",
     "shell.execute_reply": "2025-03-03T07:27:59.487016Z",
     "shell.execute_reply.started": "2025-03-03T07:27:59.458080Z"
    },
    "tags": []
   },
   "outputs": [],
   "source": [
    "qlayer = qml.qnn.KerasLayer(qnode, weight_shapes, output_dim=n_qubit)\n",
    "Activation=tf.keras.layers.Activation(activations.relu)\n",
    "\n",
    "inputs=tf.keras.Input(shape=(3,))\n",
    "x1=qlayer(inputs)\n",
    "x2=qlayer(inputs**2)\n",
    "x3=tf.keras.layers.Concatenate()([x1, x2])\n",
    "x4=tf.keras.layers.Activation(activations.relu)(x3)\n",
    "outputs=tf.keras.layers.Dense(1)(x4)\n",
    "model=tf.keras.Model(inputs=inputs,outputs=outputs)\n",
    "\n",
    "opt = tf.keras.optimizers.Adam(learning_rate=0.1)\n",
    "model.compile(opt, loss=\"mae\")"
   ]
  },
  {
   "cell_type": "code",
   "execution_count": null,
   "id": "5bc85c3a-7187-472d-89f3-99721f7dc923",
   "metadata": {
    "tags": []
   },
   "outputs": [],
   "source": [
    "re=ReduceLROnPlateau(monitor='loss', factor=0.1, patience=5, verbose=1, mode='min', min_lr=0.00001)\n",
    "fitting = model.fit(TrainX, TrainY, epochs=100, batch_size=1, validation_data=(ValidationX,ValidationY),callbacks=[re], verbose=2)  "
   ]
  },
  {
   "cell_type": "code",
   "execution_count": null,
   "id": "acf02cd232fc1eae",
   "metadata": {},
   "outputs": [],
   "source": [
    "TestX=np.load(\"TestX.npy\",allow_pickle=True)\n",
    "TestY=np.load(\"TestY.npy\",allow_pickle=True)"
   ]
  },
  {
   "cell_type": "code",
   "execution_count": null,
   "id": "5e74d968-71d5-4cd2-a45e-eef7b22a36ac",
   "metadata": {
    "tags": []
   },
   "outputs": [],
   "source": [
    "y_predict=model.predict(TestX,verbose=1)\n",
    "y_predict=y_predict.T\n",
    "y_predict=y_predict[0]"
   ]
  },
  {
   "cell_type": "code",
   "execution_count": null,
   "id": "b9d64950-54be-42b9-8e1a-7624c5450c22",
   "metadata": {
    "tags": []
   },
   "outputs": [],
   "source": [
    "from sklearn import metrics\n",
    "print('Mean Absolute Error:', metrics.mean_absolute_error(TestY, y_predict))\n",
    "print('Mean Squared Error:', metrics.mean_squared_error(TestY, y_predict))\n",
    "print('R^2:', metrics.r2_score(TestY, y_predict))\n",
    "print(\"Standard Deviation:\",np.std(y_predict))"
   ]
  }
 ],
 "metadata": {
  "kernelspec": {
   "display_name": "Python 3 (ipykernel)",
   "language": "python",
   "name": "python3"
  },
  "language_info": {
   "codemirror_mode": {
    "name": "ipython",
    "version": 3
   },
   "file_extension": ".py",
   "mimetype": "text/x-python",
   "name": "python",
   "nbconvert_exporter": "python",
   "pygments_lexer": "ipython3",
   "version": "3.11.5"
  }
 },
 "nbformat": 4,
 "nbformat_minor": 5
}
