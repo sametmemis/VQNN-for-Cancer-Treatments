{
 "cells": [
  {
   "cell_type": "code",
   "id": "1080ff64-c956-40ba-9a5f-d2de494be591",
   "metadata": {
    "execution": {
     "iopub.execute_input": "2025-03-03T07:27:56.982817Z",
     "iopub.status.busy": "2025-03-03T07:27:56.982606Z",
     "iopub.status.idle": "2025-03-03T07:27:56.986406Z",
     "shell.execute_reply": "2025-03-03T07:27:56.985966Z",
     "shell.execute_reply.started": "2025-03-03T07:27:56.982800Z"
    },
    "tags": []
   },
   "source": [
    "import pennylane.numpy as np\n",
    "import tensorflow as tf\n",
    "from tensorflow.keras.callbacks import ReduceLROnPlateau\n",
    "from silence_tensorflow import silence_tensorflow\n",
    "silence_tensorflow()"
   ],
   "outputs": [],
   "execution_count": null
  },
  {
   "cell_type": "code",
   "id": "161e3702-2813-472e-86c7-8a5c5543f70e",
   "metadata": {
    "execution": {
     "iopub.execute_input": "2025-03-03T07:27:57.830244Z",
     "iopub.status.busy": "2025-03-03T07:27:57.830113Z",
     "iopub.status.idle": "2025-03-03T07:27:57.834076Z",
     "shell.execute_reply": "2025-03-03T07:27:57.833690Z",
     "shell.execute_reply.started": "2025-03-03T07:27:57.830232Z"
    },
    "tags": []
   },
   "source": [
    "fold = 0\n",
    "TrainX = np.load(f\"TrainX_fold_{fold}.npy\", allow_pickle=True)\n",
    "TrainY = np.load(f\"TrainY_fold_{fold}.npy\", allow_pickle=True)\n",
    "\n",
    "ValidationX = np.load(f\"ValidationX_fold_{fold}.npy\", allow_pickle=True)\n",
    "ValidationY = np.load(f\"ValidationY_fold_{fold}.npy\", allow_pickle=True)\n"
   ],
   "outputs": [],
   "execution_count": null
  },
  {
   "cell_type": "code",
   "id": "c646c87b-d410-484d-b361-cc41ab30a55f",
   "metadata": {
    "execution": {
     "iopub.execute_input": "2025-03-03T07:27:59.458090Z",
     "iopub.status.busy": "2025-03-03T07:27:59.457973Z",
     "iopub.status.idle": "2025-03-03T07:27:59.487503Z",
     "shell.execute_reply": "2025-03-03T07:27:59.487016Z",
     "shell.execute_reply.started": "2025-03-03T07:27:59.458080Z"
    },
    "tags": []
   },
   "source": [
    "inputs=tf.keras.Input(shape=(3,))\n",
    "x1=tf.keras.layers.Dense(units=9,activation='relu')(inputs)\n",
    "outputs=tf.keras.layers.Dense(units=1)(x1)\n",
    "model=tf.keras.Model(inputs=inputs,outputs=outputs)\n",
    "\n",
    "opt = tf.keras.optimizers.legacy.Adam(learning_rate=0.1)\n",
    "model.compile(opt, loss=\"mae\")"
   ],
   "outputs": [],
   "execution_count": null
  },
  {
   "cell_type": "code",
   "id": "5bc85c3a-7187-472d-89f3-99721f7dc923",
   "metadata": {
    "tags": []
   },
   "source": [
    "re=ReduceLROnPlateau(monitor='loss', factor=0.1, patience=5, verbose=1, mode='min', min_lr=0.00001)\n",
    "fitting = model.fit(TrainX, TrainY, epochs=100, batch_size=1, validation_data=(ValidationX,ValidationY),callbacks=[re], verbose=2)  "
   ],
   "outputs": [],
   "execution_count": null
  },
  {
   "metadata": {},
   "cell_type": "code",
   "source": [
    "TestX=np.load(\"TestX.npy\",allow_pickle=True)\n",
    "TestY=np.load(\"TestY.npy\",allow_pickle=True)"
   ],
   "id": "acf02cd232fc1eae",
   "outputs": [],
   "execution_count": null
  },
  {
   "metadata": {},
   "cell_type": "code",
   "source": [
    "y_predict=model.predict(TestX,verbose=1)\n",
    "y_predict=y_predict.T\n",
    "y_predict=y_predict[0]"
   ],
   "id": "5e74d968-71d5-4cd2-a45e-eef7b22a36ac",
   "outputs": [],
   "execution_count": null
  },
  {
   "cell_type": "code",
   "id": "b9d64950-54be-42b9-8e1a-7624c5450c22",
   "metadata": {
    "tags": []
   },
   "source": [
    "from sklearn import metrics\n",
    "print('Mean Absolute Error:', metrics.mean_absolute_error(TestY, y_predict))\n",
    "print('Mean Squared Error:', metrics.mean_squared_error(TestY, y_predict))\n",
    "print('R^2:', metrics.r2_score(TestY, y_predict))\n",
    "print(\"Standard Deviation:\",np.std(y_predict))"
   ],
   "outputs": [],
   "execution_count": null
  }
 ],
 "metadata": {
  "kernelspec": {
   "display_name": "Python 3 (ipykernel)",
   "language": "python",
   "name": "python3"
  },
  "language_info": {
   "codemirror_mode": {
    "name": "ipython",
    "version": 3
   },
   "file_extension": ".py",
   "mimetype": "text/x-python",
   "name": "python",
   "nbconvert_exporter": "python",
   "pygments_lexer": "ipython3",
   "version": "3.12.2"
  }
 },
 "nbformat": 4,
 "nbformat_minor": 5
}
